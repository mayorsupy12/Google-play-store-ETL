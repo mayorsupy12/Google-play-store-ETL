{
 "cells": [
  {
   "attachments": {},
   "cell_type": "markdown",
   "id": "9a2592a6-de78-488d-8edb-159b2de4c818",
   "metadata": {},
   "source": [
    "# Exploratory Data Analysis on Google Playstore App\n",
    "\n",
    "<img src=\"./image/image.webp\" width=\"1500\"/>\n",
    "\n",
    "### Project Information\n",
    "\n",
    "**Author Name**: Oyekanmi Lekan <br>\n",
    "**Email**: oyekanmilekan@gmail.com <br>\n",
    "**LinkedIn**: https://www.linkedin.com/in/olamilekan-oyekanmi/ <br>\n",
    "**Date**: January 24, 2025 <br>\n",
    "\n",
    "**Objective**\n",
    "\n",
    "Conduct an Exploratory Data Analysis (EDA) on the Google Play Store dataset to uncover patterns, trends, and anomalies. This will involve:\n",
    "\n",
    "- Data cleaning\n",
    "- Documenting key observations to facilitate actionable insights\n",
    "\n",
    "**Dataset**\n",
    "\n",
    "The Data Set was downloaded from Kaggle, from the following [Google Playstore Dataset](https://www.kaggle.com/datasets/gauthamp10/google-playstore-apps/data)\n",
    "\n",
    "**Analysis Questions**:\n",
    "1. What are the top 10 Categories that are installed from the Google Play Store ?\n",
    "\n",
    "2. Which are the Categories that are getting installed the most in top 10 Categories?\n",
    "\n",
    "3. What is the higest rated Category ?\n",
    "\n",
    "4. Which Category has the highest Paid and Free apps ?\n",
    "\n",
    "5. How does the size of the Application impacts the Installation ?\n",
    "\n",
    "6. What are the Top 5 Paid Apps based With highest ratings and installs ?\n",
    "\n",
    "7. What are the Top 5 Free Apps based With highest ratings and installs ?"
   ]
  },
  {
   "cell_type": "markdown",
   "id": "f7c5b762-d6d1-420c-975b-8d3e94983589",
   "metadata": {},
   "source": [
    "## 1.0 Import Libraries"
   ]
  },
  {
   "cell_type": "code",
   "execution_count": 94,
   "id": "60d4633b-c9ac-4663-9f5a-e8cee144c5be",
   "metadata": {},
   "outputs": [],
   "source": [
    "# import necessary libraries\n",
    "import numpy as np\n",
    "import pandas as pd\n",
    "import matplotlib.pyplot as plt\n",
    "import seaborn as sns\n",
    "\n",
    "# hide all warnings runtime\n",
    "import warnings \n",
    "warnings.filterwarnings(\"ignore\")\n",
    "\n",
    "# Use for plot to show in a jupyter notebook instead of opening a new window for the plot\n",
    "%matplotlib inline"
   ]
  },
  {
   "cell_type": "markdown",
   "id": "f1c4fa8e-4f44-4ae7-9df2-1549ad8898b6",
   "metadata": {},
   "source": [
    "## 2.0 Data Loading and Exploration\n",
    "↪ Load the csv file into a pandas dataframe\n",
    "\n",
    "↪ Explore the dataset to understand the structure and quality of the dataset\n"
   ]
  },
  {
   "cell_type": "code",
   "execution_count": 97,
   "id": "ce78ed00-b457-465b-b769-553718fdf7e0",
   "metadata": {},
   "outputs": [],
   "source": [
    "# link\n",
    "# pd.read_csv(r\"https://cdn.wsform.com/wp-content/uploads/2020/06/industry.csv\")"
   ]
  },
  {
   "cell_type": "code",
   "execution_count": 99,
   "id": "8a0188f0-0684-466a-9add-8db9cc70a91d",
   "metadata": {
    "scrolled": true
   },
   "outputs": [
    {
     "data": {
      "text/html": [
       "<div>\n",
       "<style scoped>\n",
       "    .dataframe tbody tr th:only-of-type {\n",
       "        vertical-align: middle;\n",
       "    }\n",
       "\n",
       "    .dataframe tbody tr th {\n",
       "        vertical-align: top;\n",
       "    }\n",
       "\n",
       "    .dataframe thead th {\n",
       "        text-align: right;\n",
       "    }\n",
       "</style>\n",
       "<table border=\"1\" class=\"dataframe\">\n",
       "  <thead>\n",
       "    <tr style=\"text-align: right;\">\n",
       "      <th></th>\n",
       "      <th>App Name</th>\n",
       "      <th>App Id</th>\n",
       "      <th>Category</th>\n",
       "      <th>Rating</th>\n",
       "      <th>Rating Count</th>\n",
       "      <th>Installs</th>\n",
       "      <th>Minimum Installs</th>\n",
       "      <th>Maximum Installs</th>\n",
       "      <th>Free</th>\n",
       "      <th>Price</th>\n",
       "      <th>...</th>\n",
       "      <th>Developer Website</th>\n",
       "      <th>Developer Email</th>\n",
       "      <th>Released</th>\n",
       "      <th>Last Updated</th>\n",
       "      <th>Content Rating</th>\n",
       "      <th>Privacy Policy</th>\n",
       "      <th>Ad Supported</th>\n",
       "      <th>In App Purchases</th>\n",
       "      <th>Editors Choice</th>\n",
       "      <th>Scraped Time</th>\n",
       "    </tr>\n",
       "  </thead>\n",
       "  <tbody>\n",
       "    <tr>\n",
       "      <th>0</th>\n",
       "      <td>Gakondo</td>\n",
       "      <td>com.ishakwe.gakondo</td>\n",
       "      <td>Adventure</td>\n",
       "      <td>0.0</td>\n",
       "      <td>0.0</td>\n",
       "      <td>10+</td>\n",
       "      <td>10.0</td>\n",
       "      <td>15</td>\n",
       "      <td>True</td>\n",
       "      <td>0.0</td>\n",
       "      <td>...</td>\n",
       "      <td>https://beniyizibyose.tk/#/</td>\n",
       "      <td>jean21101999@gmail.com</td>\n",
       "      <td>Feb 26, 2020</td>\n",
       "      <td>Feb 26, 2020</td>\n",
       "      <td>Everyone</td>\n",
       "      <td>https://beniyizibyose.tk/projects/</td>\n",
       "      <td>False</td>\n",
       "      <td>False</td>\n",
       "      <td>False</td>\n",
       "      <td>2021-06-15 20:19:35</td>\n",
       "    </tr>\n",
       "    <tr>\n",
       "      <th>1</th>\n",
       "      <td>Ampere Battery Info</td>\n",
       "      <td>com.webserveis.batteryinfo</td>\n",
       "      <td>Tools</td>\n",
       "      <td>4.4</td>\n",
       "      <td>64.0</td>\n",
       "      <td>5,000+</td>\n",
       "      <td>5000.0</td>\n",
       "      <td>7662</td>\n",
       "      <td>True</td>\n",
       "      <td>0.0</td>\n",
       "      <td>...</td>\n",
       "      <td>https://webserveis.netlify.app/</td>\n",
       "      <td>webserveis@gmail.com</td>\n",
       "      <td>May 21, 2020</td>\n",
       "      <td>May 06, 2021</td>\n",
       "      <td>Everyone</td>\n",
       "      <td>https://dev4phones.wordpress.com/licencia-de-uso/</td>\n",
       "      <td>True</td>\n",
       "      <td>False</td>\n",
       "      <td>False</td>\n",
       "      <td>2021-06-15 20:19:35</td>\n",
       "    </tr>\n",
       "    <tr>\n",
       "      <th>2</th>\n",
       "      <td>Vibook</td>\n",
       "      <td>com.doantiepvien.crm</td>\n",
       "      <td>Productivity</td>\n",
       "      <td>0.0</td>\n",
       "      <td>0.0</td>\n",
       "      <td>50+</td>\n",
       "      <td>50.0</td>\n",
       "      <td>58</td>\n",
       "      <td>True</td>\n",
       "      <td>0.0</td>\n",
       "      <td>...</td>\n",
       "      <td>NaN</td>\n",
       "      <td>vnacrewit@gmail.com</td>\n",
       "      <td>Aug 9, 2019</td>\n",
       "      <td>Aug 19, 2019</td>\n",
       "      <td>Everyone</td>\n",
       "      <td>https://www.vietnamairlines.com/vn/en/terms-an...</td>\n",
       "      <td>False</td>\n",
       "      <td>False</td>\n",
       "      <td>False</td>\n",
       "      <td>2021-06-15 20:19:35</td>\n",
       "    </tr>\n",
       "    <tr>\n",
       "      <th>3</th>\n",
       "      <td>Smart City Trichy Public Service Vehicles 17UC...</td>\n",
       "      <td>cst.stJoseph.ug17ucs548</td>\n",
       "      <td>Communication</td>\n",
       "      <td>5.0</td>\n",
       "      <td>5.0</td>\n",
       "      <td>10+</td>\n",
       "      <td>10.0</td>\n",
       "      <td>19</td>\n",
       "      <td>True</td>\n",
       "      <td>0.0</td>\n",
       "      <td>...</td>\n",
       "      <td>http://www.climatesmarttech.com/</td>\n",
       "      <td>climatesmarttech2@gmail.com</td>\n",
       "      <td>Sep 10, 2018</td>\n",
       "      <td>Oct 13, 2018</td>\n",
       "      <td>Everyone</td>\n",
       "      <td>NaN</td>\n",
       "      <td>True</td>\n",
       "      <td>False</td>\n",
       "      <td>False</td>\n",
       "      <td>2021-06-15 20:19:35</td>\n",
       "    </tr>\n",
       "    <tr>\n",
       "      <th>4</th>\n",
       "      <td>GROW.me</td>\n",
       "      <td>com.horodyski.grower</td>\n",
       "      <td>Tools</td>\n",
       "      <td>0.0</td>\n",
       "      <td>0.0</td>\n",
       "      <td>100+</td>\n",
       "      <td>100.0</td>\n",
       "      <td>478</td>\n",
       "      <td>True</td>\n",
       "      <td>0.0</td>\n",
       "      <td>...</td>\n",
       "      <td>http://www.horodyski.com.pl</td>\n",
       "      <td>rmilekhorodyski@gmail.com</td>\n",
       "      <td>Feb 21, 2020</td>\n",
       "      <td>Nov 12, 2018</td>\n",
       "      <td>Everyone</td>\n",
       "      <td>http://www.horodyski.com.pl</td>\n",
       "      <td>False</td>\n",
       "      <td>False</td>\n",
       "      <td>False</td>\n",
       "      <td>2021-06-15 20:19:35</td>\n",
       "    </tr>\n",
       "  </tbody>\n",
       "</table>\n",
       "<p>5 rows × 24 columns</p>\n",
       "</div>"
      ],
      "text/plain": [
       "                                            App Name  \\\n",
       "0                                            Gakondo   \n",
       "1                                Ampere Battery Info   \n",
       "2                                             Vibook   \n",
       "3  Smart City Trichy Public Service Vehicles 17UC...   \n",
       "4                                            GROW.me   \n",
       "\n",
       "                       App Id       Category  Rating  Rating Count Installs  \\\n",
       "0         com.ishakwe.gakondo      Adventure     0.0           0.0      10+   \n",
       "1  com.webserveis.batteryinfo          Tools     4.4          64.0   5,000+   \n",
       "2        com.doantiepvien.crm   Productivity     0.0           0.0      50+   \n",
       "3     cst.stJoseph.ug17ucs548  Communication     5.0           5.0      10+   \n",
       "4        com.horodyski.grower          Tools     0.0           0.0     100+   \n",
       "\n",
       "   Minimum Installs  Maximum Installs  Free  Price  ...  \\\n",
       "0              10.0                15  True    0.0  ...   \n",
       "1            5000.0              7662  True    0.0  ...   \n",
       "2              50.0                58  True    0.0  ...   \n",
       "3              10.0                19  True    0.0  ...   \n",
       "4             100.0               478  True    0.0  ...   \n",
       "\n",
       "                  Developer Website              Developer Email  \\\n",
       "0       https://beniyizibyose.tk/#/       jean21101999@gmail.com   \n",
       "1   https://webserveis.netlify.app/         webserveis@gmail.com   \n",
       "2                               NaN          vnacrewit@gmail.com   \n",
       "3  http://www.climatesmarttech.com/  climatesmarttech2@gmail.com   \n",
       "4       http://www.horodyski.com.pl    rmilekhorodyski@gmail.com   \n",
       "\n",
       "       Released  Last Updated Content Rating  \\\n",
       "0  Feb 26, 2020  Feb 26, 2020       Everyone   \n",
       "1  May 21, 2020  May 06, 2021       Everyone   \n",
       "2   Aug 9, 2019  Aug 19, 2019       Everyone   \n",
       "3  Sep 10, 2018  Oct 13, 2018       Everyone   \n",
       "4  Feb 21, 2020  Nov 12, 2018       Everyone   \n",
       "\n",
       "                                      Privacy Policy Ad Supported  \\\n",
       "0                 https://beniyizibyose.tk/projects/        False   \n",
       "1  https://dev4phones.wordpress.com/licencia-de-uso/         True   \n",
       "2  https://www.vietnamairlines.com/vn/en/terms-an...        False   \n",
       "3                                                NaN         True   \n",
       "4                        http://www.horodyski.com.pl        False   \n",
       "\n",
       "  In App Purchases Editors Choice         Scraped Time  \n",
       "0            False          False  2021-06-15 20:19:35  \n",
       "1            False          False  2021-06-15 20:19:35  \n",
       "2            False          False  2021-06-15 20:19:35  \n",
       "3            False          False  2021-06-15 20:19:35  \n",
       "4            False          False  2021-06-15 20:19:35  \n",
       "\n",
       "[5 rows x 24 columns]"
      ]
     },
     "execution_count": 99,
     "metadata": {},
     "output_type": "execute_result"
    }
   ],
   "source": [
    "# load dataset\n",
    "df = pd.read_csv(\"Google-Playstore.csv\")\n",
    "df.head()"
   ]
  },
  {
   "cell_type": "markdown",
   "id": "47bca9e8-65b0-496c-a308-0b9d168e7657",
   "metadata": {},
   "source": [
    "* Let's start exploring the dataset by using different pandas function to get a general understanding of the data using functions like: `head`, `sample`, `shape`, `info`, `describe`, and some more"
   ]
  },
  {
   "cell_type": "code",
   "execution_count": 101,
   "id": "1b3fba39-5709-4af9-b3b5-e84cbfa68b7b",
   "metadata": {},
   "outputs": [
    {
     "data": {
      "text/html": [
       "<div>\n",
       "<style scoped>\n",
       "    .dataframe tbody tr th:only-of-type {\n",
       "        vertical-align: middle;\n",
       "    }\n",
       "\n",
       "    .dataframe tbody tr th {\n",
       "        vertical-align: top;\n",
       "    }\n",
       "\n",
       "    .dataframe thead th {\n",
       "        text-align: right;\n",
       "    }\n",
       "</style>\n",
       "<table border=\"1\" class=\"dataframe\">\n",
       "  <thead>\n",
       "    <tr style=\"text-align: right;\">\n",
       "      <th></th>\n",
       "      <th>App Name</th>\n",
       "      <th>App Id</th>\n",
       "      <th>Category</th>\n",
       "      <th>Rating</th>\n",
       "      <th>Rating Count</th>\n",
       "      <th>Installs</th>\n",
       "      <th>Minimum Installs</th>\n",
       "      <th>Maximum Installs</th>\n",
       "      <th>Free</th>\n",
       "      <th>Price</th>\n",
       "      <th>...</th>\n",
       "      <th>Developer Website</th>\n",
       "      <th>Developer Email</th>\n",
       "      <th>Released</th>\n",
       "      <th>Last Updated</th>\n",
       "      <th>Content Rating</th>\n",
       "      <th>Privacy Policy</th>\n",
       "      <th>Ad Supported</th>\n",
       "      <th>In App Purchases</th>\n",
       "      <th>Editors Choice</th>\n",
       "      <th>Scraped Time</th>\n",
       "    </tr>\n",
       "  </thead>\n",
       "  <tbody>\n",
       "    <tr>\n",
       "      <th>0</th>\n",
       "      <td>Gakondo</td>\n",
       "      <td>com.ishakwe.gakondo</td>\n",
       "      <td>Adventure</td>\n",
       "      <td>0.0</td>\n",
       "      <td>0.0</td>\n",
       "      <td>10+</td>\n",
       "      <td>10.0</td>\n",
       "      <td>15</td>\n",
       "      <td>True</td>\n",
       "      <td>0.0</td>\n",
       "      <td>...</td>\n",
       "      <td>https://beniyizibyose.tk/#/</td>\n",
       "      <td>jean21101999@gmail.com</td>\n",
       "      <td>Feb 26, 2020</td>\n",
       "      <td>Feb 26, 2020</td>\n",
       "      <td>Everyone</td>\n",
       "      <td>https://beniyizibyose.tk/projects/</td>\n",
       "      <td>False</td>\n",
       "      <td>False</td>\n",
       "      <td>False</td>\n",
       "      <td>2021-06-15 20:19:35</td>\n",
       "    </tr>\n",
       "    <tr>\n",
       "      <th>1</th>\n",
       "      <td>Ampere Battery Info</td>\n",
       "      <td>com.webserveis.batteryinfo</td>\n",
       "      <td>Tools</td>\n",
       "      <td>4.4</td>\n",
       "      <td>64.0</td>\n",
       "      <td>5,000+</td>\n",
       "      <td>5000.0</td>\n",
       "      <td>7662</td>\n",
       "      <td>True</td>\n",
       "      <td>0.0</td>\n",
       "      <td>...</td>\n",
       "      <td>https://webserveis.netlify.app/</td>\n",
       "      <td>webserveis@gmail.com</td>\n",
       "      <td>May 21, 2020</td>\n",
       "      <td>May 06, 2021</td>\n",
       "      <td>Everyone</td>\n",
       "      <td>https://dev4phones.wordpress.com/licencia-de-uso/</td>\n",
       "      <td>True</td>\n",
       "      <td>False</td>\n",
       "      <td>False</td>\n",
       "      <td>2021-06-15 20:19:35</td>\n",
       "    </tr>\n",
       "    <tr>\n",
       "      <th>2</th>\n",
       "      <td>Vibook</td>\n",
       "      <td>com.doantiepvien.crm</td>\n",
       "      <td>Productivity</td>\n",
       "      <td>0.0</td>\n",
       "      <td>0.0</td>\n",
       "      <td>50+</td>\n",
       "      <td>50.0</td>\n",
       "      <td>58</td>\n",
       "      <td>True</td>\n",
       "      <td>0.0</td>\n",
       "      <td>...</td>\n",
       "      <td>NaN</td>\n",
       "      <td>vnacrewit@gmail.com</td>\n",
       "      <td>Aug 9, 2019</td>\n",
       "      <td>Aug 19, 2019</td>\n",
       "      <td>Everyone</td>\n",
       "      <td>https://www.vietnamairlines.com/vn/en/terms-an...</td>\n",
       "      <td>False</td>\n",
       "      <td>False</td>\n",
       "      <td>False</td>\n",
       "      <td>2021-06-15 20:19:35</td>\n",
       "    </tr>\n",
       "    <tr>\n",
       "      <th>3</th>\n",
       "      <td>Smart City Trichy Public Service Vehicles 17UC...</td>\n",
       "      <td>cst.stJoseph.ug17ucs548</td>\n",
       "      <td>Communication</td>\n",
       "      <td>5.0</td>\n",
       "      <td>5.0</td>\n",
       "      <td>10+</td>\n",
       "      <td>10.0</td>\n",
       "      <td>19</td>\n",
       "      <td>True</td>\n",
       "      <td>0.0</td>\n",
       "      <td>...</td>\n",
       "      <td>http://www.climatesmarttech.com/</td>\n",
       "      <td>climatesmarttech2@gmail.com</td>\n",
       "      <td>Sep 10, 2018</td>\n",
       "      <td>Oct 13, 2018</td>\n",
       "      <td>Everyone</td>\n",
       "      <td>NaN</td>\n",
       "      <td>True</td>\n",
       "      <td>False</td>\n",
       "      <td>False</td>\n",
       "      <td>2021-06-15 20:19:35</td>\n",
       "    </tr>\n",
       "    <tr>\n",
       "      <th>4</th>\n",
       "      <td>GROW.me</td>\n",
       "      <td>com.horodyski.grower</td>\n",
       "      <td>Tools</td>\n",
       "      <td>0.0</td>\n",
       "      <td>0.0</td>\n",
       "      <td>100+</td>\n",
       "      <td>100.0</td>\n",
       "      <td>478</td>\n",
       "      <td>True</td>\n",
       "      <td>0.0</td>\n",
       "      <td>...</td>\n",
       "      <td>http://www.horodyski.com.pl</td>\n",
       "      <td>rmilekhorodyski@gmail.com</td>\n",
       "      <td>Feb 21, 2020</td>\n",
       "      <td>Nov 12, 2018</td>\n",
       "      <td>Everyone</td>\n",
       "      <td>http://www.horodyski.com.pl</td>\n",
       "      <td>False</td>\n",
       "      <td>False</td>\n",
       "      <td>False</td>\n",
       "      <td>2021-06-15 20:19:35</td>\n",
       "    </tr>\n",
       "  </tbody>\n",
       "</table>\n",
       "<p>5 rows × 24 columns</p>\n",
       "</div>"
      ],
      "text/plain": [
       "                                            App Name  \\\n",
       "0                                            Gakondo   \n",
       "1                                Ampere Battery Info   \n",
       "2                                             Vibook   \n",
       "3  Smart City Trichy Public Service Vehicles 17UC...   \n",
       "4                                            GROW.me   \n",
       "\n",
       "                       App Id       Category  Rating  Rating Count Installs  \\\n",
       "0         com.ishakwe.gakondo      Adventure     0.0           0.0      10+   \n",
       "1  com.webserveis.batteryinfo          Tools     4.4          64.0   5,000+   \n",
       "2        com.doantiepvien.crm   Productivity     0.0           0.0      50+   \n",
       "3     cst.stJoseph.ug17ucs548  Communication     5.0           5.0      10+   \n",
       "4        com.horodyski.grower          Tools     0.0           0.0     100+   \n",
       "\n",
       "   Minimum Installs  Maximum Installs  Free  Price  ...  \\\n",
       "0              10.0                15  True    0.0  ...   \n",
       "1            5000.0              7662  True    0.0  ...   \n",
       "2              50.0                58  True    0.0  ...   \n",
       "3              10.0                19  True    0.0  ...   \n",
       "4             100.0               478  True    0.0  ...   \n",
       "\n",
       "                  Developer Website              Developer Email  \\\n",
       "0       https://beniyizibyose.tk/#/       jean21101999@gmail.com   \n",
       "1   https://webserveis.netlify.app/         webserveis@gmail.com   \n",
       "2                               NaN          vnacrewit@gmail.com   \n",
       "3  http://www.climatesmarttech.com/  climatesmarttech2@gmail.com   \n",
       "4       http://www.horodyski.com.pl    rmilekhorodyski@gmail.com   \n",
       "\n",
       "       Released  Last Updated Content Rating  \\\n",
       "0  Feb 26, 2020  Feb 26, 2020       Everyone   \n",
       "1  May 21, 2020  May 06, 2021       Everyone   \n",
       "2   Aug 9, 2019  Aug 19, 2019       Everyone   \n",
       "3  Sep 10, 2018  Oct 13, 2018       Everyone   \n",
       "4  Feb 21, 2020  Nov 12, 2018       Everyone   \n",
       "\n",
       "                                      Privacy Policy Ad Supported  \\\n",
       "0                 https://beniyizibyose.tk/projects/        False   \n",
       "1  https://dev4phones.wordpress.com/licencia-de-uso/         True   \n",
       "2  https://www.vietnamairlines.com/vn/en/terms-an...        False   \n",
       "3                                                NaN         True   \n",
       "4                        http://www.horodyski.com.pl        False   \n",
       "\n",
       "  In App Purchases Editors Choice         Scraped Time  \n",
       "0            False          False  2021-06-15 20:19:35  \n",
       "1            False          False  2021-06-15 20:19:35  \n",
       "2            False          False  2021-06-15 20:19:35  \n",
       "3            False          False  2021-06-15 20:19:35  \n",
       "4            False          False  2021-06-15 20:19:35  \n",
       "\n",
       "[5 rows x 24 columns]"
      ]
     },
     "execution_count": 101,
     "metadata": {},
     "output_type": "execute_result"
    }
   ],
   "source": [
    "# Display the first five rows of the DataFrame\n",
    "df.head()"
   ]
  },
  {
   "cell_type": "code",
   "execution_count": null,
   "id": "4d518f27-d138-44a0-9981-a64ae203e38d",
   "metadata": {},
   "outputs": [],
   "source": [
    "# Display a random sample of 10 rows from the DataFrame\n",
    "df.sample(10)"
   ]
  },
  {
   "cell_type": "code",
   "execution_count": null,
   "id": "89ba53c9-dcd0-4da0-b59c-1d34b58511f3",
   "metadata": {},
   "outputs": [],
   "source": [
    "# let check the shape of the dataset \n",
    "print(f\"The dataset contains {df.shape[0]} rows and {df.shape[1]} columns\")"
   ]
  },
  {
   "cell_type": "code",
   "execution_count": null,
   "id": "15e3c22e-009f-432e-a083-e52422f06b73",
   "metadata": {},
   "outputs": [],
   "source": [
    "# lets check columns \n",
    "df.columns"
   ]
  },
  {
   "cell_type": "code",
   "execution_count": null,
   "id": "1359ddc5-45ec-4e96-a5ee-281c720e279f",
   "metadata": {},
   "outputs": [],
   "source": [
    "# lets check info of the dataset \n",
    "df.info()"
   ]
  },
  {
   "cell_type": "code",
   "execution_count": null,
   "id": "f02880aa-184d-41fa-82f3-b507c463a50c",
   "metadata": {},
   "outputs": [],
   "source": [
    "# lets check the summary of the dataset\n",
    "df.describe()"
   ]
  },
  {
   "cell_type": "code",
   "execution_count": null,
   "id": "9076db21-2ba2-4029-8b46-f2a6be085506",
   "metadata": {},
   "outputs": [],
   "source": [
    "# lets check dulplicates\n",
    "df.duplicated().sum()"
   ]
  },
  {
   "cell_type": "markdown",
   "id": "b7fa65d1-b1a5-4cf8-9dca-3ca85edf71fb",
   "metadata": {},
   "source": [
    "#### Missing Data Profile"
   ]
  },
  {
   "cell_type": "code",
   "execution_count": null,
   "id": "42e3a21a-6aa3-4387-9bd8-b51e69ac0a5e",
   "metadata": {},
   "outputs": [],
   "source": [
    "df.isnull().sum().values"
   ]
  },
  {
   "cell_type": "code",
   "execution_count": 17,
   "id": "6b539155-6b2d-46f6-983b-9278f3045095",
   "metadata": {},
   "outputs": [
    {
     "data": {
      "text/html": [
       "<div>\n",
       "<style scoped>\n",
       "    .dataframe tbody tr th:only-of-type {\n",
       "        vertical-align: middle;\n",
       "    }\n",
       "\n",
       "    .dataframe tbody tr th {\n",
       "        vertical-align: top;\n",
       "    }\n",
       "\n",
       "    .dataframe thead th {\n",
       "        text-align: right;\n",
       "    }\n",
       "</style>\n",
       "<table border=\"1\" class=\"dataframe\">\n",
       "  <thead>\n",
       "    <tr style=\"text-align: right;\">\n",
       "      <th></th>\n",
       "      <th>Columns</th>\n",
       "      <th>Missing Count</th>\n",
       "      <th>Missing Percent</th>\n",
       "    </tr>\n",
       "  </thead>\n",
       "  <tbody>\n",
       "    <tr>\n",
       "      <th>0</th>\n",
       "      <td>App Name</td>\n",
       "      <td>5</td>\n",
       "      <td>0.00022</td>\n",
       "    </tr>\n",
       "    <tr>\n",
       "      <th>1</th>\n",
       "      <td>App Id</td>\n",
       "      <td>0</td>\n",
       "      <td>0.00000</td>\n",
       "    </tr>\n",
       "    <tr>\n",
       "      <th>2</th>\n",
       "      <td>Category</td>\n",
       "      <td>0</td>\n",
       "      <td>0.00000</td>\n",
       "    </tr>\n",
       "    <tr>\n",
       "      <th>3</th>\n",
       "      <td>Rating</td>\n",
       "      <td>22883</td>\n",
       "      <td>0.98935</td>\n",
       "    </tr>\n",
       "    <tr>\n",
       "      <th>4</th>\n",
       "      <td>Rating Count</td>\n",
       "      <td>22883</td>\n",
       "      <td>0.98935</td>\n",
       "    </tr>\n",
       "    <tr>\n",
       "      <th>5</th>\n",
       "      <td>Installs</td>\n",
       "      <td>107</td>\n",
       "      <td>0.00463</td>\n",
       "    </tr>\n",
       "    <tr>\n",
       "      <th>6</th>\n",
       "      <td>Minimum Installs</td>\n",
       "      <td>107</td>\n",
       "      <td>0.00463</td>\n",
       "    </tr>\n",
       "    <tr>\n",
       "      <th>7</th>\n",
       "      <td>Maximum Installs</td>\n",
       "      <td>0</td>\n",
       "      <td>0.00000</td>\n",
       "    </tr>\n",
       "    <tr>\n",
       "      <th>8</th>\n",
       "      <td>Free</td>\n",
       "      <td>0</td>\n",
       "      <td>0.00000</td>\n",
       "    </tr>\n",
       "    <tr>\n",
       "      <th>9</th>\n",
       "      <td>Price</td>\n",
       "      <td>0</td>\n",
       "      <td>0.00000</td>\n",
       "    </tr>\n",
       "    <tr>\n",
       "      <th>10</th>\n",
       "      <td>Currency</td>\n",
       "      <td>135</td>\n",
       "      <td>0.00584</td>\n",
       "    </tr>\n",
       "    <tr>\n",
       "      <th>11</th>\n",
       "      <td>Size</td>\n",
       "      <td>196</td>\n",
       "      <td>0.00847</td>\n",
       "    </tr>\n",
       "    <tr>\n",
       "      <th>12</th>\n",
       "      <td>Minimum Android</td>\n",
       "      <td>6530</td>\n",
       "      <td>0.28232</td>\n",
       "    </tr>\n",
       "    <tr>\n",
       "      <th>13</th>\n",
       "      <td>Developer Id</td>\n",
       "      <td>33</td>\n",
       "      <td>0.00143</td>\n",
       "    </tr>\n",
       "    <tr>\n",
       "      <th>14</th>\n",
       "      <td>Developer Website</td>\n",
       "      <td>760835</td>\n",
       "      <td>32.89466</td>\n",
       "    </tr>\n",
       "    <tr>\n",
       "      <th>15</th>\n",
       "      <td>Developer Email</td>\n",
       "      <td>31</td>\n",
       "      <td>0.00134</td>\n",
       "    </tr>\n",
       "    <tr>\n",
       "      <th>16</th>\n",
       "      <td>Released</td>\n",
       "      <td>71053</td>\n",
       "      <td>3.07197</td>\n",
       "    </tr>\n",
       "    <tr>\n",
       "      <th>17</th>\n",
       "      <td>Last Updated</td>\n",
       "      <td>0</td>\n",
       "      <td>0.00000</td>\n",
       "    </tr>\n",
       "    <tr>\n",
       "      <th>18</th>\n",
       "      <td>Content Rating</td>\n",
       "      <td>0</td>\n",
       "      <td>0.00000</td>\n",
       "    </tr>\n",
       "    <tr>\n",
       "      <th>19</th>\n",
       "      <td>Privacy Policy</td>\n",
       "      <td>420953</td>\n",
       "      <td>18.19988</td>\n",
       "    </tr>\n",
       "    <tr>\n",
       "      <th>20</th>\n",
       "      <td>Ad Supported</td>\n",
       "      <td>0</td>\n",
       "      <td>0.00000</td>\n",
       "    </tr>\n",
       "    <tr>\n",
       "      <th>21</th>\n",
       "      <td>In App Purchases</td>\n",
       "      <td>0</td>\n",
       "      <td>0.00000</td>\n",
       "    </tr>\n",
       "    <tr>\n",
       "      <th>22</th>\n",
       "      <td>Editors Choice</td>\n",
       "      <td>0</td>\n",
       "      <td>0.00000</td>\n",
       "    </tr>\n",
       "    <tr>\n",
       "      <th>23</th>\n",
       "      <td>Scraped Time</td>\n",
       "      <td>0</td>\n",
       "      <td>0.00000</td>\n",
       "    </tr>\n",
       "  </tbody>\n",
       "</table>\n",
       "</div>"
      ],
      "text/plain": [
       "              Columns  Missing Count  Missing Percent\n",
       "0            App Name              5          0.00022\n",
       "1              App Id              0          0.00000\n",
       "2            Category              0          0.00000\n",
       "3              Rating          22883          0.98935\n",
       "4        Rating Count          22883          0.98935\n",
       "5            Installs            107          0.00463\n",
       "6    Minimum Installs            107          0.00463\n",
       "7    Maximum Installs              0          0.00000\n",
       "8                Free              0          0.00000\n",
       "9               Price              0          0.00000\n",
       "10           Currency            135          0.00584\n",
       "11               Size            196          0.00847\n",
       "12    Minimum Android           6530          0.28232\n",
       "13       Developer Id             33          0.00143\n",
       "14  Developer Website         760835         32.89466\n",
       "15    Developer Email             31          0.00134\n",
       "16           Released          71053          3.07197\n",
       "17       Last Updated              0          0.00000\n",
       "18     Content Rating              0          0.00000\n",
       "19     Privacy Policy         420953         18.19988\n",
       "20       Ad Supported              0          0.00000\n",
       "21   In App Purchases              0          0.00000\n",
       "22     Editors Choice              0          0.00000\n",
       "23       Scraped Time              0          0.00000"
      ]
     },
     "execution_count": 17,
     "metadata": {},
     "output_type": "execute_result"
    }
   ],
   "source": [
    "# list columns of the DataFrame\n",
    "columns = df.columns.to_list()\n",
    "\n",
    "# Determine the count of missing values in each column of the DataFrame\n",
    "missing_counts = df.isnull().sum()\n",
    "\n",
    "# Calculate the percentage of missing values in each column of the DataFrame\n",
    "percent_missing_count = round((df.isnull().sum() / df.shape[0])*100,5)\n",
    "\n",
    "missing_report = {\n",
    "    \"Columns\": columns,\n",
    "    \"Missing Count\": missing_counts.values,\n",
    "    \"Missing Percent\": percent_missing_count.values\n",
    "}\n",
    "\n",
    "missing_report_df = pd.DataFrame(missing_report)  # create a dataframe report about the missing data\n",
    "missing_report_df\n"
   ]
  },
  {
   "cell_type": "markdown",
   "id": "6ac73338-7604-45d9-8558-f29245991acd",
   "metadata": {},
   "source": [
    "#### Data Inspection Observations:\n",
    "<hr>\n",
    "\n",
    "1. There are `2312944` rows and `24` columns in the dataset\n",
    "2. There is no duplicates in the data.\n",
    "3. The columns are of different data types\n",
    "4. The columns in the datasets are:\n",
    "   * `App Name`, `App Id`, `Category`, `Rating`, `Rating Count`, `Installs`, `Minimum Installs`, `Maximum Installs`, `Free`, `Price`,\n",
    "     `Currency`, `Size`, `Minimum Android`, `Developer Id`, `Developer Website`, `Developer Email`, `Released`, `Last Updated`, `Content\n",
    "     Rating`, `Privacy Policy`, `Ad Supported`, `In App Purchases`, `Editors Choice`, `Scraped Time`.\n",
    "5. dtypes: bool = 4, float64 = 4, int64 = 1, object = 15\n",
    "6. There are some missing values in the dataset which we will read in details and deal later on in the notebook.\n",
    "   * `Developer Website` have almost 33% and `Privacy Policy` have almost 18% of missing values\n",
    "7. Few columns need to be remove as they do not contribute to the overall results of the dataset\n",
    "   like: `App Id`, `Developer Id`, `Developer Website`, `Developer Email`, `Privacy Policy`, `Editors\n",
    "   Choice`, `Minimum Android` & `Scraped Time`\n",
    "9. There are some columns which are of object data type but they should be of numeric data type, we will\n",
    "    convert them later on in the notebook.\n",
    "   * `Installs & Size`"
   ]
  },
  {
   "cell_type": "markdown",
   "id": "2498f4ad-2d95-4ff9-be96-749826ae5cc3",
   "metadata": {},
   "source": [
    "## 3.0 Data Cleaning"
   ]
  },
  {
   "cell_type": "markdown",
   "id": "c3aa8483-c236-4d0f-a4be-14e4e1934be2",
   "metadata": {},
   "source": [
    "#### - Drop the columns that are not important"
   ]
  },
  {
   "cell_type": "code",
   "execution_count": 104,
   "id": "1fa65449-22c8-4c7e-b6d2-15fb046a48a2",
   "metadata": {},
   "outputs": [],
   "source": [
    "# Drop unnecessary columns from the DataFrame\n",
    "df.drop(columns = ['App Id', 'Developer Id', 'Developer Website', 'Developer Email', \n",
    "              'Privacy Policy', 'Editors Choice', 'Minimum Android', 'Scraped Time'], \n",
    "        axis='columns',\n",
    "       inplace=True)"
   ]
  },
  {
   "cell_type": "markdown",
   "id": "0c972823-0b24-4782-a02d-25bcee68f7a2",
   "metadata": {},
   "source": [
    "#### - Rename columns"
   ]
  },
  {
   "cell_type": "code",
   "execution_count": null,
   "id": "50a7ee7b-a5bd-48d3-aa8c-72a7b455d1cf",
   "metadata": {},
   "outputs": [],
   "source": [
    "# anonymous function /no name\n",
    "\n",
    "def hello():\n",
    "    print(\"Hello World\")\n",
    "\n",
    "hello()"
   ]
  },
  {
   "cell_type": "code",
   "execution_count": null,
   "id": "5cd5153a-fa1a-48ec-acde-bd3b8fb2e7b6",
   "metadata": {},
   "outputs": [],
   "source": [
    "greeting = lambda x: print(f\"My value is: {x}\")\n",
    "greeting(6)"
   ]
  },
  {
   "cell_type": "code",
   "execution_count": null,
   "id": "d1424dee-2fd6-49dc-b881-787b761f27d7",
   "metadata": {},
   "outputs": [],
   "source": [
    "# df.rename(columns={\"App Name\":\"app_name\",\n",
    "#                   \"Category\":\"category\",\n",
    "#                   \"Rating Count\":\"rating_count\"})"
   ]
  },
  {
   "cell_type": "code",
   "execution_count": 107,
   "id": "c2eff97e-a444-4bd0-9467-3727873c646f",
   "metadata": {},
   "outputs": [],
   "source": [
    "# Rename columns by converting them to lowercase, removing leading/trailing whitespaces, and replacing spaces with underscores\n",
    "df.rename(lambda x: x.lower().strip().replace(' ', '_'), axis='columns', inplace=True)"
   ]
  },
  {
   "cell_type": "code",
   "execution_count": null,
   "id": "7a5dcd70-ce46-4f41-8c50-591ebf808f7b",
   "metadata": {},
   "outputs": [],
   "source": [
    "df.columns"
   ]
  },
  {
   "cell_type": "markdown",
   "id": "a815a61a-a5e6-4908-b433-02f9b163bfe3",
   "metadata": {},
   "source": [
    "#### - Deal with missing values and inconsistencies"
   ]
  },
  {
   "cell_type": "markdown",
   "id": "4d450880-37d1-4a5d-8847-dcb34eaa1efd",
   "metadata": {},
   "source": [
    "**App Name**"
   ]
  },
  {
   "cell_type": "code",
   "execution_count": 25,
   "id": "8a36deb1-16d4-4329-b3f3-a2cb094755b3",
   "metadata": {},
   "outputs": [
    {
     "data": {
      "text/plain": [
       "5"
      ]
     },
     "execution_count": 25,
     "metadata": {},
     "output_type": "execute_result"
    }
   ],
   "source": [
    "# check the number of missing values\n",
    "df[\"app_name\"].isnull().sum()"
   ]
  },
  {
   "cell_type": "code",
   "execution_count": 109,
   "id": "6b563ede-42ee-4e61-90f9-ec826b812bba",
   "metadata": {},
   "outputs": [],
   "source": [
    "# remove that row in App Name column that has missing values\n",
    "df.dropna(subset=['app_name'], inplace=True)"
   ]
  },
  {
   "cell_type": "code",
   "execution_count": null,
   "id": "c5462e52-b475-49fb-9a63-d8e48c52fd09",
   "metadata": {},
   "outputs": [],
   "source": [
    "df[\"app_name\"].isnull().sum()"
   ]
  },
  {
   "cell_type": "markdown",
   "id": "8d37a9d4-c27d-4417-bb17-9bbd7f1044b2",
   "metadata": {},
   "source": [
    "**Rating**\n",
    "\n",
    "For Rating we will replace the respective missing values of Rating, with respect of the average rating of their 'Category'"
   ]
  },
  {
   "cell_type": "code",
   "execution_count": null,
   "id": "8cf6c598-b081-4e5d-a88f-e50fc16c93e2",
   "metadata": {},
   "outputs": [],
   "source": [
    "df[\"rating\"].isnull().sum()"
   ]
  },
  {
   "cell_type": "code",
   "execution_count": null,
   "id": "c454e7c8-aaca-4daf-9ec9-c4b8e5141757",
   "metadata": {},
   "outputs": [],
   "source": [
    "# Calculate the average rating in each 'Category'\n",
    "average_rating_by_category = df.groupby('category')['rating'].mean().reset_index()\n",
    "average_rating_by_category"
   ]
  },
  {
   "cell_type": "code",
   "execution_count": null,
   "id": "b640031a-8e5c-481b-b220-77fbb8d09331",
   "metadata": {},
   "outputs": [],
   "source": [
    "# Calculate the average rating in each 'Category'\n",
    "average_ratings = df.groupby('category')['rating'].transform('mean')"
   ]
  },
  {
   "cell_type": "code",
   "execution_count": null,
   "id": "24aefede-ee54-4909-9ef7-6bbeebeeed68",
   "metadata": {},
   "outputs": [],
   "source": [
    "# Replace missing values in 'Rating' with the respective average ratings of their Category\n",
    "df['rating'] = df['rating'].fillna(average_ratings)"
   ]
  },
  {
   "cell_type": "markdown",
   "id": "09f6658d-31c6-47cf-8f0a-14e877098283",
   "metadata": {},
   "source": [
    "**Rating Count**\n",
    "\n",
    "For rating_count we will replace the respective missing values of rating_count, with respect of the average rating count of their 'Category'"
   ]
  },
  {
   "cell_type": "code",
   "execution_count": null,
   "id": "be27ae80-ec8e-400d-a2fc-99265e087015",
   "metadata": {},
   "outputs": [],
   "source": [
    "df['rating_count'].isnull().sum()"
   ]
  },
  {
   "cell_type": "code",
   "execution_count": null,
   "id": "e222f9ba-3a71-4e78-8382-e2c893e920cf",
   "metadata": {},
   "outputs": [],
   "source": [
    "# Calculate the average rating in each 'Category'\n",
    "average_rating_count = df.groupby('category')['rating_count'].transform('mean')\n",
    "\n",
    "# Replace missing values in 'Rating' with the respective average ratings of their Category\n",
    "df['rating_count'] = df['rating_count'].fillna(average_rating_count)"
   ]
  },
  {
   "cell_type": "markdown",
   "id": "8d11d812-e240-43cf-8ea5-6afb2aebdb2b",
   "metadata": {},
   "source": [
    "**Installs**"
   ]
  },
  {
   "cell_type": "code",
   "execution_count": null,
   "id": "67584df7-8183-42b0-b65c-c7a63d1ba6b9",
   "metadata": {},
   "outputs": [],
   "source": [
    "df['installs'].isnull().sum()"
   ]
  },
  {
   "cell_type": "code",
   "execution_count": null,
   "id": "d925de1b-19ff-4e48-b664-3f0cbf6d5173",
   "metadata": {},
   "outputs": [],
   "source": [
    "# Count the occurrences of each unique value in the 'installs' column using value_counts()\n",
    "df['installs'].unique()"
   ]
  },
  {
   "cell_type": "code",
   "execution_count": 111,
   "id": "322f9d37-38b6-41c5-b5d3-a152e0e796dc",
   "metadata": {},
   "outputs": [],
   "source": [
    "# lets remove the null values in the installs column \n",
    "df.dropna(subset=['installs'], inplace=True)"
   ]
  },
  {
   "cell_type": "code",
   "execution_count": 113,
   "id": "528c3df6-6238-4e3f-80d9-990e46654c05",
   "metadata": {},
   "outputs": [],
   "source": [
    "# remove the plus sign from install column and convert it to numeric\n",
    "df['installs'] = df['installs'].str.replace(',', '').str.replace('+', '')"
   ]
  },
  {
   "cell_type": "code",
   "execution_count": null,
   "id": "dd636b18-a725-4736-be7f-d008e3a7ef53",
   "metadata": {},
   "outputs": [],
   "source": [
    "df['installs'].unique()"
   ]
  },
  {
   "cell_type": "code",
   "execution_count": 115,
   "id": "ffdb0550-1caa-4f53-a4aa-dfdee34e6201",
   "metadata": {},
   "outputs": [],
   "source": [
    "# Convert the 'installs' column to numeric\n",
    "# the errors='coerce' parameter will replace non-convertible values with NaN\n",
    "\n",
    "# df[\"installs\"].astype(\"int64\")\n",
    "\n",
    "df['installs'] = pd.to_numeric(df['installs'], errors='coerce').astype('Int64')"
   ]
  },
  {
   "cell_type": "code",
   "execution_count": 27,
   "id": "bd3d3b34-fa39-494d-95c8-ad7592925e0e",
   "metadata": {},
   "outputs": [
    {
     "data": {
      "text/plain": [
       "[10,\n",
       " 5000,\n",
       " 50,\n",
       " 100,\n",
       " 1000,\n",
       " 500,\n",
       " 50000,\n",
       " 10000,\n",
       " 1,\n",
       " 500000,\n",
       " 100000,\n",
       " 5,\n",
       " 10000000,\n",
       " 1000000,\n",
       " 5000000,\n",
       " 0,\n",
       " 100000000,\n",
       " 50000000,\n",
       " 1000000000,\n",
       " 500000000,\n",
       " 5000000000,\n",
       " 10000000000]"
      ]
     },
     "execution_count": 27,
     "metadata": {},
     "output_type": "execute_result"
    }
   ],
   "source": [
    "df['installs'].unique().tolist()"
   ]
  },
  {
   "cell_type": "markdown",
   "id": "38b77b71-c9e2-4887-ac1d-f9d4a3f2fece",
   "metadata": {},
   "source": [
    "**Currency**"
   ]
  },
  {
   "cell_type": "code",
   "execution_count": null,
   "id": "9e21bf31-dad6-4577-abba-aaa18f1f507d",
   "metadata": {},
   "outputs": [],
   "source": [
    "df[\"currency\"].isnull().sum()"
   ]
  },
  {
   "cell_type": "code",
   "execution_count": null,
   "id": "df2d9425-d276-434f-b1a4-08367f8d591c",
   "metadata": {},
   "outputs": [],
   "source": [
    "df[\"currency\"].unique()"
   ]
  },
  {
   "cell_type": "code",
   "execution_count": 117,
   "id": "c97a2019-4af9-469a-9d45-76d2033649a1",
   "metadata": {},
   "outputs": [],
   "source": [
    "# Drop rows with missing values in 'currency' column\n",
    "df.dropna(subset=['currency'], inplace=True)"
   ]
  },
  {
   "cell_type": "markdown",
   "id": "80152d7f-b276-4267-906a-d6d7d0bad86e",
   "metadata": {},
   "source": [
    "**Size**"
   ]
  },
  {
   "cell_type": "code",
   "execution_count": null,
   "id": "162a0782-59f2-4faf-a04c-2687a0a3bee2",
   "metadata": {},
   "outputs": [],
   "source": [
    "df[\"size\"].isnull().sum()"
   ]
  },
  {
   "cell_type": "code",
   "execution_count": null,
   "id": "9e933413-a215-4785-bdf8-ee009263d1a5",
   "metadata": {},
   "outputs": [],
   "source": [
    "print(df[\"size\"].unique().tolist())"
   ]
  },
  {
   "cell_type": "markdown",
   "id": "4013c3d8-99fb-497f-856b-d7d7ecbd70ee",
   "metadata": {},
   "source": [
    "**Observations**:\n",
    "* There are several uniques values in the size column, we have to first make the unit into one common unit from M and G to K, and then remove the G ,M, and K, and from the values and convert them into numeric data type. Varies with device into NaN\n",
    "\n",
    "* Here, we also notice that some values have , which make it difficult to convert them into bytes so first we remove these commas also"
   ]
  },
  {
   "cell_type": "code",
   "execution_count": null,
   "id": "f739d4a4-938d-4632-847d-46a22d302875",
   "metadata": {},
   "outputs": [],
   "source": [
    "# find the values in size column which has 'G' in it\n",
    "df['size'].loc[(df['size'].str.contains('G')) & (~df['size'].isna())].value_counts().sum()"
   ]
  },
  {
   "cell_type": "code",
   "execution_count": null,
   "id": "eaddf421-5848-4905-8e5e-3e354aabc338",
   "metadata": {},
   "outputs": [],
   "source": [
    "# find the values in size column which has 'M' in it\n",
    "df['size'].loc[(df['size'].str.contains('M')) & (~df['size'].isna())].value_counts().sum()"
   ]
  },
  {
   "cell_type": "code",
   "execution_count": null,
   "id": "b909a44b-a9b5-4cb6-ac32-37ae76262be4",
   "metadata": {},
   "outputs": [],
   "source": [
    "# find the values in size column which has 'k' in it\n",
    "df['size'].loc[(df['size'].str.contains('k')) & (~df['size'].isna())].value_counts().sum()"
   ]
  },
  {
   "cell_type": "code",
   "execution_count": null,
   "id": "b07c8799-ff73-4b39-8f84-4567608d09fd",
   "metadata": {},
   "outputs": [],
   "source": [
    "# find the values in size column which has 'Varies with device' in it\n",
    "df['size'].loc[(df['size'].str.contains('Varies with device')) & (~df['size'].isna())].value_counts().sum()"
   ]
  },
  {
   "cell_type": "markdown",
   "id": "6c74b90f-5c6a-4244-a45a-f3e2dd73bb60",
   "metadata": {},
   "source": [
    "* Let's convert the G and M units into k and then remove the G, M and k from the values and convert them into numeric data type."
   ]
  },
  {
   "cell_type": "code",
   "execution_count": null,
   "id": "586c7d40-5130-434e-8882-a79b95cebb3e",
   "metadata": {},
   "outputs": [],
   "source": [
    "df[\"size\"]"
   ]
  },
  {
   "cell_type": "code",
   "execution_count": 119,
   "id": "c550d713-0f8d-48b9-ab93-05edcc79dcb7",
   "metadata": {},
   "outputs": [],
   "source": [
    "# Define a function to convert the 'size' column to numeric\n",
    "def convert_size(size_value):\n",
    "    # add function details here\n",
    "    '''\n",
    "    This function will convert the size column to numeric by multiplying \n",
    "    the values with 1024 if it has 'M' in it and 1024*1024 if it has 'G' in it\n",
    "    If 'Varies with device' is present, it returns NaN.\n",
    "    '''\n",
    "\n",
    "    if isinstance(size_value, str):\n",
    "        # Remove commas from the size values\n",
    "        size_value= size_value.replace(',','')\n",
    "        \n",
    "        if 'k' in size_value:\n",
    "            # Convert to float and remove 'k'\n",
    "            return float(size_value.replace('k', ''))\n",
    "        elif 'M' in size_value:\n",
    "            # Convert to float, remove 'M', and multiply by 1024\n",
    "            return float(size_value.replace('M', '')) * 1024\n",
    "        elif 'G' in size_value:\n",
    "            # Convert to float, remove 'G', and multiply by 1024*1024\n",
    "            return float(size_value.replace('G', '')) * 1024 * 1024\n",
    "        elif 'Varies with device' in size_value:\n",
    "            # If 'Varies with device' is present, return NaN\n",
    "            return np.nan\n",
    "    return size_value"
   ]
  },
  {
   "cell_type": "code",
   "execution_count": 121,
   "id": "c0b1fd40-4d3a-4840-b58d-58203d5f2cba",
   "metadata": {},
   "outputs": [],
   "source": [
    "# Apply the conversion function to the 'size' column in the DataFrame\n",
    "df['size'] = df['size'].apply(convert_size)"
   ]
  },
  {
   "cell_type": "code",
   "execution_count": 122,
   "id": "1f6b7c58-b10e-4cb2-bc39-2f3f9f787969",
   "metadata": {},
   "outputs": [],
   "source": [
    "# rename the column name 'Size' to 'Size_in_bytes'\n",
    "df.rename(columns={'size': 'size_in_KB'}, inplace=True)"
   ]
  },
  {
   "cell_type": "markdown",
   "id": "7b927ef9-02ce-4e0a-823f-12fb7d56f6c3",
   "metadata": {},
   "source": [
    "* For size_in_KB we will replace the respective missing values of size_in_KB, with respect of the average size of their 'Category'"
   ]
  },
  {
   "cell_type": "code",
   "execution_count": 35,
   "id": "d690ecd3-3eec-42ea-8e6b-ed1ffe2e6426",
   "metadata": {},
   "outputs": [
    {
     "data": {
      "text/plain": [
       "74905"
      ]
     },
     "execution_count": 35,
     "metadata": {},
     "output_type": "execute_result"
    }
   ],
   "source": [
    "df['size_in_KB'].isnull().sum()"
   ]
  },
  {
   "cell_type": "code",
   "execution_count": 37,
   "id": "85089380-f780-466c-903b-c172c978d463",
   "metadata": {},
   "outputs": [],
   "source": [
    "# Calculate the average rating in each 'Category'\n",
    "average_size_KB = df.groupby('category')['size_in_KB'].transform('mean')\n",
    "\n",
    "# Replace missing values in 'Rating' with the respective average ratings of their Category\n",
    "df['size_in_KB'] = df['size_in_KB'].fillna(average_size_KB)"
   ]
  },
  {
   "cell_type": "markdown",
   "id": "db30c4d6-bd6f-4c6d-8e16-bb465c177daa",
   "metadata": {},
   "source": [
    "**Released**"
   ]
  },
  {
   "cell_type": "code",
   "execution_count": null,
   "id": "cdf793ad-e015-4465-ae3e-08e0132139bf",
   "metadata": {},
   "outputs": [],
   "source": [
    "df[\"released\"]"
   ]
  },
  {
   "cell_type": "code",
   "execution_count": null,
   "id": "4730effb-72ce-46d9-b054-fc1b48ea5259",
   "metadata": {},
   "outputs": [],
   "source": [
    "df[\"released\"].isnull().sum()"
   ]
  },
  {
   "cell_type": "code",
   "execution_count": null,
   "id": "7f4f322c-d360-48b2-b377-443e68abc574",
   "metadata": {},
   "outputs": [],
   "source": [
    "df[\"released\"].unique()"
   ]
  },
  {
   "cell_type": "code",
   "execution_count": 125,
   "id": "5ac12948-d170-4f3c-86eb-fb06eebfd91a",
   "metadata": {},
   "outputs": [],
   "source": [
    "# Drop rows with missing values in 'released' column\n",
    "df.dropna(subset=['released'], inplace=True)"
   ]
  },
  {
   "cell_type": "code",
   "execution_count": 127,
   "id": "21ef8d8f-e12f-4049-b2f9-cdab9894dc1e",
   "metadata": {},
   "outputs": [],
   "source": [
    "# convert datatypes to date\n",
    "df[\"released\"] = pd.to_datetime(df[\"released\"])"
   ]
  },
  {
   "cell_type": "markdown",
   "id": "ec3e7dbb-8e3f-4212-aaad-432fd385fb4c",
   "metadata": {},
   "source": [
    "**Price**"
   ]
  },
  {
   "cell_type": "code",
   "execution_count": null,
   "id": "296e289c-a4fd-4aac-91af-0e7d9aaa5184",
   "metadata": {},
   "outputs": [],
   "source": [
    "df[\"price\"].isnull().sum()"
   ]
  },
  {
   "cell_type": "code",
   "execution_count": null,
   "id": "437981ca-1998-4912-b961-7118df606067",
   "metadata": {},
   "outputs": [],
   "source": [
    "df[\"currency\"].unique()"
   ]
  },
  {
   "cell_type": "code",
   "execution_count": null,
   "id": "5b30933b-cc2d-4abb-84f3-4150a6af675e",
   "metadata": {},
   "outputs": [],
   "source": [
    "df[\"price\"].dtype"
   ]
  },
  {
   "cell_type": "code",
   "execution_count": 128,
   "id": "280040c6-ba60-4437-a575-e55ab22168a8",
   "metadata": {},
   "outputs": [],
   "source": [
    "# conversion rates to USD\n",
    "conversion_rate_to_usd = {\n",
    "    \"CAD\": 0.70,\n",
    "    \"EUR\": 1.05,\n",
    "    \"INR\": 0.012,\n",
    "    \"VND\": 0.000040,\n",
    "    \"GBP\": 1.24,\n",
    "    \"BRL\": 0.17,\n",
    "    \"KRW\": 0.00070,\n",
    "    \"TRY\": 0.028,\n",
    "    \"SGD\": 0.74,\n",
    "    \"AUD\": 0.63,\n",
    "    \"ZAR\": 0.055,    \n",
    "}\n",
    "\n",
    "# to convert each price to USD base on the currency\n",
    "def convert_to_usd(row):\n",
    "    rate = conversion_rate_to_usd.get(row[\"currency\"], 1)\n",
    "    return row[\"price\"] * rate"
   ]
  },
  {
   "cell_type": "code",
   "execution_count": 131,
   "id": "053d2e59-5eeb-4abd-a87f-fc562f3b6eb5",
   "metadata": {},
   "outputs": [],
   "source": [
    "df[\"price_in_usd\"] = df.apply(convert_to_usd, axis=1)"
   ]
  },
  {
   "cell_type": "markdown",
   "id": "d9d60c70-6247-4763-9af9-1a22698030c6",
   "metadata": {},
   "source": [
    "## 4.0 Feature Engineering\n",
    "- Feature Extraction\n",
    "- Feature Deletion"
   ]
  },
  {
   "cell_type": "markdown",
   "id": "1f453834-159f-49af-bd1a-760181312d6e",
   "metadata": {},
   "source": [
    "#### - Create a Column `Installs Category`"
   ]
  },
  {
   "cell_type": "code",
   "execution_count": null,
   "id": "37c165c4-943d-4ab5-acd3-be6682cf5dca",
   "metadata": {},
   "outputs": [],
   "source": [
    "df['installs']"
   ]
  },
  {
   "cell_type": "code",
   "execution_count": null,
   "id": "33ec2644-c795-410f-a34f-9913c7c8a3e0",
   "metadata": {},
   "outputs": [],
   "source": [
    "# Count the occurrences of each unique value in the 'installs' column and display the result\n",
    "df['installs'].unique().tolist()"
   ]
  },
  {
   "cell_type": "code",
   "execution_count": 132,
   "id": "a9f00da5-c2d4-4130-8c18-8cb9078a0623",
   "metadata": {},
   "outputs": [],
   "source": [
    "# create a function to label each install category\n",
    "def install_category_label(value):\n",
    "    if value >= 0 and value <= 10:\n",
    "        return \"0-10\"\n",
    "    elif value >= 10 and value <= 100:\n",
    "        return \"10-100\"\n",
    "    elif value >= 100 and value <= 1000:\n",
    "        return \"100-1K\"\n",
    "    elif value >= 1000 and value <= 10000:\n",
    "        return \"1K-10K\"\n",
    "    elif value >= 10000 and value <= 100000:\n",
    "        return \"10K-100K\"\n",
    "    elif value >= 100000 and value <= 1000000:\n",
    "        return \"100K-1M\"\n",
    "    elif value >= 1000000 and value <= 10000000:\n",
    "        return \"1M-10M\"\n",
    "    elif value >= 10000000 and value <= 100000000:\n",
    "        return \"10M-100M\"\n",
    "    elif value >= 100000000 and value <= 1000000000:\n",
    "        return \"100M-1B\"\n",
    "    elif value > 1000000000:\n",
    "        return \"1B+\"\n",
    "    else:\n",
    "        return np.nan"
   ]
  },
  {
   "cell_type": "code",
   "execution_count": 133,
   "id": "1c504585-430b-4b66-9a5d-d3fac3c0cf85",
   "metadata": {},
   "outputs": [],
   "source": [
    "# Create 'Installs_Category' \n",
    "df['installs_category'] = df['installs'].apply(install_category_label)"
   ]
  },
  {
   "cell_type": "code",
   "execution_count": 134,
   "id": "a19fd977-3bc5-4ca7-aa5d-5e6db4fcc0d4",
   "metadata": {},
   "outputs": [
    {
     "data": {
      "text/plain": [
       "installs_category\n",
       "10-100      595604\n",
       "100-1K      571275\n",
       "0-10        432772\n",
       "1K-10K      389527\n",
       "10K-100K    180203\n",
       "100K-1M      58678\n",
       "1M-10M       12359\n",
       "10M-100M      1308\n",
       "100M-1B        115\n",
       "1B+             12\n",
       "Name: count, dtype: int64"
      ]
     },
     "execution_count": 134,
     "metadata": {},
     "output_type": "execute_result"
    }
   ],
   "source": [
    "# showing the counts for each category\n",
    "df['installs_category'].value_counts()"
   ]
  },
  {
   "cell_type": "markdown",
   "id": "2ca887ae-6db7-4516-9be3-ff066d3e33c4",
   "metadata": {},
   "source": [
    "**Free**"
   ]
  },
  {
   "cell_type": "code",
   "execution_count": null,
   "id": "faac60b7-f5c2-4f7e-be13-bac4031ac70a",
   "metadata": {},
   "outputs": [],
   "source": [
    "df[\"free\"].unique()"
   ]
  },
  {
   "cell_type": "markdown",
   "id": "8e63e849-cf81-45e6-b6fe-89513cfe0ba6",
   "metadata": {},
   "source": [
    "#### - Create column `Type`"
   ]
  },
  {
   "cell_type": "markdown",
   "id": "91f62ab1-5938-4b5f-b100-5c6ed279856b",
   "metadata": {},
   "source": [
    "* Creataing the column type for free and paid Apps by using the Free column, it's helpfull while dealing with the paid and Free Apps"
   ]
  },
  {
   "cell_type": "code",
   "execution_count": 139,
   "id": "d752b9b9-36b0-4366-90c4-bedbe56ab9ad",
   "metadata": {},
   "outputs": [],
   "source": [
    "# creating type column\n",
    "df['type'] = np.where(df['free'] == True,'Free','Paid')"
   ]
  },
  {
   "cell_type": "code",
   "execution_count": null,
   "id": "88ece881-8f31-48a9-9061-31df402f2f92",
   "metadata": {},
   "outputs": [],
   "source": [
    "df.isnull().sum()"
   ]
  },
  {
   "cell_type": "markdown",
   "id": "56cc833b-0994-4a5d-af14-4dea6d007b52",
   "metadata": {},
   "source": [
    "### Data cleaning summary\n",
    "What we have done till now:\n",
    "- Drop the columns that are not important\n",
    "- Clean the size column then convert it into float64. I also make a new column called size_in_MB\n",
    "- Clean the installs column and convert it into Int\n",
    "- Deal with inconsistency and Missing values\n",
    "- Add a column installs_category based on installs"
   ]
  },
  {
   "cell_type": "markdown",
   "id": "3160f2aa-181a-4752-9a00-f2dbd1f733d8",
   "metadata": {},
   "source": [
    "## 5.0 Analysis\n",
    "\n",
    "**Questions**\n",
    "\n",
    "1. Top 10 Rated Apps\n",
    "2. All Category with number of apps and top 10 categories by installs?\n",
    "3. How many individuals are observed to provide ratings or not, and for those who do, what is the most common rating?\n",
    "4. Number of installed app, type wise according to each category?\n",
    "5. Which is the percentage of Paid and Free apps?\n",
    "6. Which Category has the highest Paid and Free apps?\n",
    "7. What are the top 10 Categories that are installed from the Google Play Store ?\n",
    "8. Which are the Categories that are getting installed the most in top 10 Categories?\n",
    "9. What is the higest rated Category ?\n",
    "10. Which Category has the highest Paid and Free apps ?\n",
    "11. How does the size of the Application impacts the Installation ?\n",
    "12. What are the Top 5 Paid Apps based With highest ratings and installs ?\n",
    "13. What are the Top 5 Free Apps based With highest ratings and installs ?"
   ]
  },
  {
   "cell_type": "code",
   "execution_count": null,
   "id": "1c6ca0aa-d76f-4317-9bf7-e513353746a3",
   "metadata": {},
   "outputs": [],
   "source": [
    "top_rated_apps = df.sort_values(by='rating_count', ascending=False).head(10)[['app_name', 'rating', 'category']]\n",
    "\n",
    "# Step 4: Print a message indicating that the following apps are the top 10 rated\n",
    "print(\"Top 10 Rated Apps:\")\n",
    "\n",
    "# Step 5: Display the DataFrame containing the top-rated apps\n",
    "top_rated_apps\n"
   ]
  },
  {
   "cell_type": "code",
   "execution_count": null,
   "id": "fca42b3a-f424-4c9e-ab7d-38e662aa9b30",
   "metadata": {},
   "outputs": [],
   "source": [
    "df.head()"
   ]
  },
  {
   "cell_type": "code",
   "execution_count": null,
   "id": "968c13d2-b1fd-42a0-936d-5b72e5251a05",
   "metadata": {},
   "outputs": [],
   "source": [
    "#All Category with number of apps and top 10 categories by installs?\n",
    "category_counts = df['category'].value_counts()\n",
    "category_counts\n"
   ]
  },
  {
   "cell_type": "code",
   "execution_count": null,
   "id": "8cd0fca6-429b-4203-bc00-7aa0eefc854e",
   "metadata": {},
   "outputs": [],
   "source": [
    "top_categories_by_installs = df.groupby('category')['installs'].sum().sort_values(ascending=False).head(10)\n",
    "top_categories_by_installs"
   ]
  },
  {
   "cell_type": "code",
   "execution_count": 29,
   "id": "f7623c71-a4b2-4ba5-ac64-8dde3d77dcc7",
   "metadata": {},
   "outputs": [
    {
     "data": {
      "text/html": [
       "<div>\n",
       "<style scoped>\n",
       "    .dataframe tbody tr th:only-of-type {\n",
       "        vertical-align: middle;\n",
       "    }\n",
       "\n",
       "    .dataframe tbody tr th {\n",
       "        vertical-align: top;\n",
       "    }\n",
       "\n",
       "    .dataframe thead th {\n",
       "        text-align: right;\n",
       "    }\n",
       "</style>\n",
       "<table border=\"1\" class=\"dataframe\">\n",
       "  <thead>\n",
       "    <tr style=\"text-align: right;\">\n",
       "      <th></th>\n",
       "      <th>app_name</th>\n",
       "      <th>app_id</th>\n",
       "      <th>category</th>\n",
       "      <th>rating</th>\n",
       "      <th>rating_count</th>\n",
       "      <th>installs</th>\n",
       "      <th>minimum_installs</th>\n",
       "      <th>maximum_installs</th>\n",
       "      <th>free</th>\n",
       "      <th>price</th>\n",
       "      <th>...</th>\n",
       "      <th>developer_website</th>\n",
       "      <th>developer_email</th>\n",
       "      <th>released</th>\n",
       "      <th>last_updated</th>\n",
       "      <th>content_rating</th>\n",
       "      <th>privacy_policy</th>\n",
       "      <th>ad_supported</th>\n",
       "      <th>in_app_purchases</th>\n",
       "      <th>editors_choice</th>\n",
       "      <th>scraped_time</th>\n",
       "    </tr>\n",
       "  </thead>\n",
       "  <tbody>\n",
       "    <tr>\n",
       "      <th>0</th>\n",
       "      <td>Gakondo</td>\n",
       "      <td>com.ishakwe.gakondo</td>\n",
       "      <td>Adventure</td>\n",
       "      <td>0.0</td>\n",
       "      <td>0.0</td>\n",
       "      <td>10+</td>\n",
       "      <td>10.0</td>\n",
       "      <td>15</td>\n",
       "      <td>True</td>\n",
       "      <td>0.0</td>\n",
       "      <td>...</td>\n",
       "      <td>https://beniyizibyose.tk/#/</td>\n",
       "      <td>jean21101999@gmail.com</td>\n",
       "      <td>Feb 26, 2020</td>\n",
       "      <td>Feb 26, 2020</td>\n",
       "      <td>Everyone</td>\n",
       "      <td>https://beniyizibyose.tk/projects/</td>\n",
       "      <td>False</td>\n",
       "      <td>False</td>\n",
       "      <td>False</td>\n",
       "      <td>2021-06-15 20:19:35</td>\n",
       "    </tr>\n",
       "    <tr>\n",
       "      <th>1</th>\n",
       "      <td>Ampere Battery Info</td>\n",
       "      <td>com.webserveis.batteryinfo</td>\n",
       "      <td>Tools</td>\n",
       "      <td>4.4</td>\n",
       "      <td>64.0</td>\n",
       "      <td>5,000+</td>\n",
       "      <td>5000.0</td>\n",
       "      <td>7662</td>\n",
       "      <td>True</td>\n",
       "      <td>0.0</td>\n",
       "      <td>...</td>\n",
       "      <td>https://webserveis.netlify.app/</td>\n",
       "      <td>webserveis@gmail.com</td>\n",
       "      <td>May 21, 2020</td>\n",
       "      <td>May 06, 2021</td>\n",
       "      <td>Everyone</td>\n",
       "      <td>https://dev4phones.wordpress.com/licencia-de-uso/</td>\n",
       "      <td>True</td>\n",
       "      <td>False</td>\n",
       "      <td>False</td>\n",
       "      <td>2021-06-15 20:19:35</td>\n",
       "    </tr>\n",
       "    <tr>\n",
       "      <th>2</th>\n",
       "      <td>Vibook</td>\n",
       "      <td>com.doantiepvien.crm</td>\n",
       "      <td>Productivity</td>\n",
       "      <td>0.0</td>\n",
       "      <td>0.0</td>\n",
       "      <td>50+</td>\n",
       "      <td>50.0</td>\n",
       "      <td>58</td>\n",
       "      <td>True</td>\n",
       "      <td>0.0</td>\n",
       "      <td>...</td>\n",
       "      <td>NaN</td>\n",
       "      <td>vnacrewit@gmail.com</td>\n",
       "      <td>Aug 9, 2019</td>\n",
       "      <td>Aug 19, 2019</td>\n",
       "      <td>Everyone</td>\n",
       "      <td>https://www.vietnamairlines.com/vn/en/terms-an...</td>\n",
       "      <td>False</td>\n",
       "      <td>False</td>\n",
       "      <td>False</td>\n",
       "      <td>2021-06-15 20:19:35</td>\n",
       "    </tr>\n",
       "    <tr>\n",
       "      <th>3</th>\n",
       "      <td>Smart City Trichy Public Service Vehicles 17UC...</td>\n",
       "      <td>cst.stJoseph.ug17ucs548</td>\n",
       "      <td>Communication</td>\n",
       "      <td>5.0</td>\n",
       "      <td>5.0</td>\n",
       "      <td>10+</td>\n",
       "      <td>10.0</td>\n",
       "      <td>19</td>\n",
       "      <td>True</td>\n",
       "      <td>0.0</td>\n",
       "      <td>...</td>\n",
       "      <td>http://www.climatesmarttech.com/</td>\n",
       "      <td>climatesmarttech2@gmail.com</td>\n",
       "      <td>Sep 10, 2018</td>\n",
       "      <td>Oct 13, 2018</td>\n",
       "      <td>Everyone</td>\n",
       "      <td>NaN</td>\n",
       "      <td>True</td>\n",
       "      <td>False</td>\n",
       "      <td>False</td>\n",
       "      <td>2021-06-15 20:19:35</td>\n",
       "    </tr>\n",
       "    <tr>\n",
       "      <th>4</th>\n",
       "      <td>GROW.me</td>\n",
       "      <td>com.horodyski.grower</td>\n",
       "      <td>Tools</td>\n",
       "      <td>0.0</td>\n",
       "      <td>0.0</td>\n",
       "      <td>100+</td>\n",
       "      <td>100.0</td>\n",
       "      <td>478</td>\n",
       "      <td>True</td>\n",
       "      <td>0.0</td>\n",
       "      <td>...</td>\n",
       "      <td>http://www.horodyski.com.pl</td>\n",
       "      <td>rmilekhorodyski@gmail.com</td>\n",
       "      <td>Feb 21, 2020</td>\n",
       "      <td>Nov 12, 2018</td>\n",
       "      <td>Everyone</td>\n",
       "      <td>http://www.horodyski.com.pl</td>\n",
       "      <td>False</td>\n",
       "      <td>False</td>\n",
       "      <td>False</td>\n",
       "      <td>2021-06-15 20:19:35</td>\n",
       "    </tr>\n",
       "  </tbody>\n",
       "</table>\n",
       "<p>5 rows × 24 columns</p>\n",
       "</div>"
      ],
      "text/plain": [
       "                                            app_name  \\\n",
       "0                                            Gakondo   \n",
       "1                                Ampere Battery Info   \n",
       "2                                             Vibook   \n",
       "3  Smart City Trichy Public Service Vehicles 17UC...   \n",
       "4                                            GROW.me   \n",
       "\n",
       "                       app_id       category  rating  rating_count installs  \\\n",
       "0         com.ishakwe.gakondo      Adventure     0.0           0.0      10+   \n",
       "1  com.webserveis.batteryinfo          Tools     4.4          64.0   5,000+   \n",
       "2        com.doantiepvien.crm   Productivity     0.0           0.0      50+   \n",
       "3     cst.stJoseph.ug17ucs548  Communication     5.0           5.0      10+   \n",
       "4        com.horodyski.grower          Tools     0.0           0.0     100+   \n",
       "\n",
       "   minimum_installs  maximum_installs  free  price  ...  \\\n",
       "0              10.0                15  True    0.0  ...   \n",
       "1            5000.0              7662  True    0.0  ...   \n",
       "2              50.0                58  True    0.0  ...   \n",
       "3              10.0                19  True    0.0  ...   \n",
       "4             100.0               478  True    0.0  ...   \n",
       "\n",
       "                  developer_website              developer_email  \\\n",
       "0       https://beniyizibyose.tk/#/       jean21101999@gmail.com   \n",
       "1   https://webserveis.netlify.app/         webserveis@gmail.com   \n",
       "2                               NaN          vnacrewit@gmail.com   \n",
       "3  http://www.climatesmarttech.com/  climatesmarttech2@gmail.com   \n",
       "4       http://www.horodyski.com.pl    rmilekhorodyski@gmail.com   \n",
       "\n",
       "       released  last_updated content_rating  \\\n",
       "0  Feb 26, 2020  Feb 26, 2020       Everyone   \n",
       "1  May 21, 2020  May 06, 2021       Everyone   \n",
       "2   Aug 9, 2019  Aug 19, 2019       Everyone   \n",
       "3  Sep 10, 2018  Oct 13, 2018       Everyone   \n",
       "4  Feb 21, 2020  Nov 12, 2018       Everyone   \n",
       "\n",
       "                                      privacy_policy ad_supported  \\\n",
       "0                 https://beniyizibyose.tk/projects/        False   \n",
       "1  https://dev4phones.wordpress.com/licencia-de-uso/         True   \n",
       "2  https://www.vietnamairlines.com/vn/en/terms-an...        False   \n",
       "3                                                NaN         True   \n",
       "4                        http://www.horodyski.com.pl        False   \n",
       "\n",
       "  in_app_purchases editors_choice         scraped_time  \n",
       "0            False          False  2021-06-15 20:19:35  \n",
       "1            False          False  2021-06-15 20:19:35  \n",
       "2            False          False  2021-06-15 20:19:35  \n",
       "3            False          False  2021-06-15 20:19:35  \n",
       "4            False          False  2021-06-15 20:19:35  \n",
       "\n",
       "[5 rows x 24 columns]"
      ]
     },
     "execution_count": 29,
     "metadata": {},
     "output_type": "execute_result"
    }
   ],
   "source": [
    "df.head()"
   ]
  },
  {
   "cell_type": "code",
   "execution_count": null,
   "id": "5be609c5-a5b5-4a68-8e1d-7790297b1d7e",
   "metadata": {},
   "outputs": [],
   "source": [
    "#How many individuals are observed to provide ratings or not, and for those who do, what is the most common rating?\n",
    "apps_without_ratings = df['rating'].isnull().sum()\n",
    "apps_without_ratings"
   ]
  },
  {
   "cell_type": "code",
   "execution_count": 27,
   "id": "584f7564-9086-45d7-83f0-635777f59573",
   "metadata": {},
   "outputs": [
    {
     "data": {
      "text/plain": [
       "2290061"
      ]
     },
     "execution_count": 27,
     "metadata": {},
     "output_type": "execute_result"
    }
   ],
   "source": [
    "apps_with_ratings = df['rating'].notnull().sum()\n",
    "apps_with_ratings"
   ]
  },
  {
   "cell_type": "code",
   "execution_count": null,
   "id": "f0315a5d-7daf-4e18-9985-de928750212b",
   "metadata": {},
   "outputs": [],
   "source": [
    "apps_with_ratings = df['rating'].notnull().sum().mode()[0]\n",
    "apps_with_ratings"
   ]
  },
  {
   "cell_type": "code",
   "execution_count": null,
   "id": "4b1a777c-9822-475d-9071-a7bd6fd37852",
   "metadata": {},
   "outputs": [],
   "source": [
    "#Number of installed app, type wise according to each category?\n",
    "category_type_installs = df.groupby('category')['installs'].sum()\n",
    "category_type_installs"
   ]
  },
  {
   "cell_type": "code",
   "execution_count": null,
   "id": "72a125ab-53ff-442e-8e9b-c77810193e25",
   "metadata": {},
   "outputs": [],
   "source": [
    "# 5.What is the percentage of Paid and Free apps?\n",
    "free_apps = df[df[\"free\"]==True][\"free\"].value_counts()\n",
    "free_apps"
   ]
  },
  {
   "cell_type": "code",
   "execution_count": null,
   "id": "85129913-6281-4c96-b6e1-a791920e6683",
   "metadata": {},
   "outputs": [],
   "source": [
    "paid_apps = df[df[\"free\"]==False][\"free\"].value_counts()\n",
    "paid_apps"
   ]
  },
  {
   "cell_type": "code",
   "execution_count": null,
   "id": "2161ca69-a2e6-472e-b290-12aa306afc86",
   "metadata": {},
   "outputs": [],
   "source": []
  },
  {
   "cell_type": "code",
   "execution_count": null,
   "id": "35dc889f-3173-4fd6-ad6a-b91c27d0cc6b",
   "metadata": {},
   "outputs": [],
   "source": [
    "total_apps = len(df)\n",
    "total_apps"
   ]
  },
  {
   "cell_type": "code",
   "execution_count": null,
   "id": "7d51005a-0dec-4120-add5-a3c54db13ff5",
   "metadata": {},
   "outputs": [],
   "source": [
    "percentage_paid = paid_apps / total_apps * 100\n",
    "percentage_paid"
   ]
  },
  {
   "cell_type": "code",
   "execution_count": null,
   "id": "7b9caa08-3577-4cac-abf3-b67a4b67cd42",
   "metadata": {},
   "outputs": [],
   "source": [
    "percentage_free = free_apps / total_apps * 100\n",
    "percentage_free"
   ]
  },
  {
   "cell_type": "code",
   "execution_count": null,
   "id": "3425de23-2936-4303-96d4-a4744c8af81d",
   "metadata": {
    "scrolled": true
   },
   "outputs": [],
   "source": [
    "\n"
   ]
  },
  {
   "cell_type": "code",
   "execution_count": null,
   "id": "dc3b164b-909f-42c5-8708-cfd0eb4483aa",
   "metadata": {},
   "outputs": [],
   "source": [
    "# 6 Which Category has the highest Paid and Free apps?"
   ]
  },
  {
   "cell_type": "code",
   "execution_count": 43,
   "id": "c9bdf233-2152-408f-88e8-25ef8f4763c4",
   "metadata": {},
   "outputs": [
    {
     "data": {
      "text/plain": [
       "category\n",
       "Education    39355.845003\n",
       "Name: price, dtype: float64"
      ]
     },
     "execution_count": 43,
     "metadata": {},
     "output_type": "execute_result"
    }
   ],
   "source": [
    "df.groupby('category')['price'].sum().sort_values(ascending = False).head(1)"
   ]
  },
  {
   "cell_type": "code",
   "execution_count": 217,
   "id": "47eec23a-7f78-4510-8dfd-48cc484223e7",
   "metadata": {},
   "outputs": [
    {
     "data": {
      "text/plain": [
       "category\n",
       "Education    234541\n",
       "Name: free, dtype: int64"
      ]
     },
     "execution_count": 217,
     "metadata": {},
     "output_type": "execute_result"
    }
   ],
   "source": [
    "df.groupby('category')['free'].sum().sort_values(ascending = False).head(1)"
   ]
  },
  {
   "cell_type": "code",
   "execution_count": null,
   "id": "538e8112-6760-4617-ba34-499db82d8965",
   "metadata": {},
   "outputs": [],
   "source": []
  },
  {
   "cell_type": "code",
   "execution_count": null,
   "id": "1a3ec47a-40a4-4428-8a73-3127242c87ec",
   "metadata": {},
   "outputs": [],
   "source": [
    "# 7 What are the top 10 Categories that are installed from the Google Play Store ?"
   ]
  },
  {
   "cell_type": "code",
   "execution_count": 251,
   "id": "cca56ea0-7722-4125-84ea-6155ef811053",
   "metadata": {},
   "outputs": [
    {
     "data": {
      "text/plain": [
       "Series([], Name: installs, dtype: Int64)"
      ]
     },
     "execution_count": 251,
     "metadata": {},
     "output_type": "execute_result"
    }
   ],
   "source": [
    "top_ten_cate = df.groupby('category')['installs'].sum().sort_values(ascending = False).head(10)\n",
    "top_ten_cate "
   ]
  },
  {
   "cell_type": "code",
   "execution_count": null,
   "id": "db88f0a1-f7ab-4b6d-8f06-051bc99d6351",
   "metadata": {},
   "outputs": [],
   "source": []
  },
  {
   "cell_type": "code",
   "execution_count": null,
   "id": "c43c774b-058a-4700-b27f-6d482e0e754c",
   "metadata": {},
   "outputs": [],
   "source": [
    "# 8 Which are the Categories that are getting installed the most in top 10 Categories?"
   ]
  },
  {
   "cell_type": "code",
   "execution_count": 141,
   "id": "22a7bc37-a21a-40ef-9d45-06796e4457f4",
   "metadata": {},
   "outputs": [
    {
     "data": {
      "text/html": [
       "<div>\n",
       "<style scoped>\n",
       "    .dataframe tbody tr th:only-of-type {\n",
       "        vertical-align: middle;\n",
       "    }\n",
       "\n",
       "    .dataframe tbody tr th {\n",
       "        vertical-align: top;\n",
       "    }\n",
       "\n",
       "    .dataframe thead th {\n",
       "        text-align: right;\n",
       "    }\n",
       "</style>\n",
       "<table border=\"1\" class=\"dataframe\">\n",
       "  <thead>\n",
       "    <tr style=\"text-align: right;\">\n",
       "      <th></th>\n",
       "      <th>app_name</th>\n",
       "      <th>category</th>\n",
       "      <th>rating</th>\n",
       "      <th>rating_count</th>\n",
       "      <th>installs</th>\n",
       "      <th>minimum_installs</th>\n",
       "      <th>maximum_installs</th>\n",
       "      <th>free</th>\n",
       "      <th>price</th>\n",
       "      <th>currency</th>\n",
       "      <th>size_in_KB</th>\n",
       "      <th>released</th>\n",
       "      <th>last_updated</th>\n",
       "      <th>content_rating</th>\n",
       "      <th>ad_supported</th>\n",
       "      <th>in_app_purchases</th>\n",
       "      <th>price_in_usd</th>\n",
       "      <th>installs_category</th>\n",
       "      <th>type</th>\n",
       "    </tr>\n",
       "  </thead>\n",
       "  <tbody>\n",
       "    <tr>\n",
       "      <th>0</th>\n",
       "      <td>Gakondo</td>\n",
       "      <td>Adventure</td>\n",
       "      <td>0.0</td>\n",
       "      <td>0.0</td>\n",
       "      <td>10</td>\n",
       "      <td>10.0</td>\n",
       "      <td>15</td>\n",
       "      <td>True</td>\n",
       "      <td>0.0</td>\n",
       "      <td>USD</td>\n",
       "      <td>10240.0</td>\n",
       "      <td>2020-02-26</td>\n",
       "      <td>Feb 26, 2020</td>\n",
       "      <td>Everyone</td>\n",
       "      <td>False</td>\n",
       "      <td>False</td>\n",
       "      <td>0.0</td>\n",
       "      <td>0-10</td>\n",
       "      <td>Free</td>\n",
       "    </tr>\n",
       "    <tr>\n",
       "      <th>1</th>\n",
       "      <td>Ampere Battery Info</td>\n",
       "      <td>Tools</td>\n",
       "      <td>4.4</td>\n",
       "      <td>64.0</td>\n",
       "      <td>5000</td>\n",
       "      <td>5000.0</td>\n",
       "      <td>7662</td>\n",
       "      <td>True</td>\n",
       "      <td>0.0</td>\n",
       "      <td>USD</td>\n",
       "      <td>2969.6</td>\n",
       "      <td>2020-05-21</td>\n",
       "      <td>May 06, 2021</td>\n",
       "      <td>Everyone</td>\n",
       "      <td>True</td>\n",
       "      <td>False</td>\n",
       "      <td>0.0</td>\n",
       "      <td>1K-10K</td>\n",
       "      <td>Free</td>\n",
       "    </tr>\n",
       "    <tr>\n",
       "      <th>2</th>\n",
       "      <td>Vibook</td>\n",
       "      <td>Productivity</td>\n",
       "      <td>0.0</td>\n",
       "      <td>0.0</td>\n",
       "      <td>50</td>\n",
       "      <td>50.0</td>\n",
       "      <td>58</td>\n",
       "      <td>True</td>\n",
       "      <td>0.0</td>\n",
       "      <td>USD</td>\n",
       "      <td>3788.8</td>\n",
       "      <td>2019-08-09</td>\n",
       "      <td>Aug 19, 2019</td>\n",
       "      <td>Everyone</td>\n",
       "      <td>False</td>\n",
       "      <td>False</td>\n",
       "      <td>0.0</td>\n",
       "      <td>10-100</td>\n",
       "      <td>Free</td>\n",
       "    </tr>\n",
       "    <tr>\n",
       "      <th>3</th>\n",
       "      <td>Smart City Trichy Public Service Vehicles 17UC...</td>\n",
       "      <td>Communication</td>\n",
       "      <td>5.0</td>\n",
       "      <td>5.0</td>\n",
       "      <td>10</td>\n",
       "      <td>10.0</td>\n",
       "      <td>19</td>\n",
       "      <td>True</td>\n",
       "      <td>0.0</td>\n",
       "      <td>USD</td>\n",
       "      <td>1843.2</td>\n",
       "      <td>2018-09-10</td>\n",
       "      <td>Oct 13, 2018</td>\n",
       "      <td>Everyone</td>\n",
       "      <td>True</td>\n",
       "      <td>False</td>\n",
       "      <td>0.0</td>\n",
       "      <td>0-10</td>\n",
       "      <td>Free</td>\n",
       "    </tr>\n",
       "    <tr>\n",
       "      <th>4</th>\n",
       "      <td>GROW.me</td>\n",
       "      <td>Tools</td>\n",
       "      <td>0.0</td>\n",
       "      <td>0.0</td>\n",
       "      <td>100</td>\n",
       "      <td>100.0</td>\n",
       "      <td>478</td>\n",
       "      <td>True</td>\n",
       "      <td>0.0</td>\n",
       "      <td>USD</td>\n",
       "      <td>6348.8</td>\n",
       "      <td>2020-02-21</td>\n",
       "      <td>Nov 12, 2018</td>\n",
       "      <td>Everyone</td>\n",
       "      <td>False</td>\n",
       "      <td>False</td>\n",
       "      <td>0.0</td>\n",
       "      <td>10-100</td>\n",
       "      <td>Free</td>\n",
       "    </tr>\n",
       "  </tbody>\n",
       "</table>\n",
       "</div>"
      ],
      "text/plain": [
       "                                            app_name       category  rating  \\\n",
       "0                                            Gakondo      Adventure     0.0   \n",
       "1                                Ampere Battery Info          Tools     4.4   \n",
       "2                                             Vibook   Productivity     0.0   \n",
       "3  Smart City Trichy Public Service Vehicles 17UC...  Communication     5.0   \n",
       "4                                            GROW.me          Tools     0.0   \n",
       "\n",
       "   rating_count  installs  minimum_installs  maximum_installs  free  price  \\\n",
       "0           0.0        10              10.0                15  True    0.0   \n",
       "1          64.0      5000            5000.0              7662  True    0.0   \n",
       "2           0.0        50              50.0                58  True    0.0   \n",
       "3           5.0        10              10.0                19  True    0.0   \n",
       "4           0.0       100             100.0               478  True    0.0   \n",
       "\n",
       "  currency  size_in_KB   released  last_updated content_rating  ad_supported  \\\n",
       "0      USD     10240.0 2020-02-26  Feb 26, 2020       Everyone         False   \n",
       "1      USD      2969.6 2020-05-21  May 06, 2021       Everyone          True   \n",
       "2      USD      3788.8 2019-08-09  Aug 19, 2019       Everyone         False   \n",
       "3      USD      1843.2 2018-09-10  Oct 13, 2018       Everyone          True   \n",
       "4      USD      6348.8 2020-02-21  Nov 12, 2018       Everyone         False   \n",
       "\n",
       "   in_app_purchases  price_in_usd installs_category  type  \n",
       "0             False           0.0              0-10  Free  \n",
       "1             False           0.0            1K-10K  Free  \n",
       "2             False           0.0            10-100  Free  \n",
       "3             False           0.0              0-10  Free  \n",
       "4             False           0.0            10-100  Free  "
      ]
     },
     "execution_count": 141,
     "metadata": {},
     "output_type": "execute_result"
    }
   ],
   "source": [
    "df.head()"
   ]
  },
  {
   "cell_type": "code",
   "execution_count": 173,
   "id": "bf11603f-e491-47b7-a378-6572fbb8693f",
   "metadata": {},
   "outputs": [
    {
     "data": {
      "text/plain": [
       "category\n",
       "Action                     2.700349\n",
       "Adventure                  2.809442\n",
       "Arcade                     2.448880\n",
       "Art & Design               1.956398\n",
       "Auto & Vehicles            2.046830\n",
       "Beauty                     1.428503\n",
       "Board                      2.784866\n",
       "Books & Reference          2.462621\n",
       "Business                   1.431936\n",
       "Card                       3.082413\n",
       "Casino                     3.284478\n",
       "Casual                     2.423615\n",
       "Comics                     2.854227\n",
       "Communication              2.127337\n",
       "Dating                     2.457412\n",
       "Education                  2.246568\n",
       "Educational                2.442736\n",
       "Entertainment              2.430941\n",
       "Events                     1.267189\n",
       "Finance                    2.392675\n",
       "Food & Drink               1.295308\n",
       "Health & Fitness           1.616534\n",
       "House & Home               1.481414\n",
       "Libraries & Demo           2.124328\n",
       "Lifestyle                  1.921498\n",
       "Maps & Navigation          2.214951\n",
       "Medical                    1.850603\n",
       "Music                      2.652037\n",
       "Music & Audio              2.223162\n",
       "News & Magazines           2.485393\n",
       "Parenting                  2.429238\n",
       "Personalization            2.759444\n",
       "Photography                2.520531\n",
       "Productivity               1.943102\n",
       "Puzzle                     2.686702\n",
       "Racing                     2.959050\n",
       "Role Playing               3.372430\n",
       "Shopping                   1.836514\n",
       "Simulation                 3.209302\n",
       "Social                     2.404747\n",
       "Sports                     2.313575\n",
       "Strategy                   2.867348\n",
       "Tools                      2.353637\n",
       "Travel & Local             1.913982\n",
       "Trivia                     2.521165\n",
       "Video Players & Editors    2.911323\n",
       "Weather                    3.121914\n",
       "Word                       2.895416\n",
       "Name: rating, dtype: float64"
      ]
     },
     "execution_count": 173,
     "metadata": {},
     "output_type": "execute_result"
    }
   ],
   "source": [
    "# 9 What is the higest rated Category ?\n",
    "category_ratings = df.groupby('category')['rating'].mean()\n",
    "category_ratings"
   ]
  },
  {
   "cell_type": "code",
   "execution_count": 175,
   "id": "7a3551b3-a180-4d32-81ea-ee4ce07a1e53",
   "metadata": {},
   "outputs": [
    {
     "data": {
      "text/plain": [
       "'Role Playing'"
      ]
     },
     "execution_count": 175,
     "metadata": {},
     "output_type": "execute_result"
    }
   ],
   "source": [
    "highest_rated_category = category_ratings.idxmax()\n",
    "highest_rated_category\n"
   ]
  },
  {
   "cell_type": "code",
   "execution_count": 177,
   "id": "718ca6da-4e52-4476-a5b5-c154a7afaf36",
   "metadata": {},
   "outputs": [
    {
     "data": {
      "text/plain": [
       "3.372429906542056"
      ]
     },
     "execution_count": 177,
     "metadata": {},
     "output_type": "execute_result"
    }
   ],
   "source": [
    "highest_rating = category_ratings.max()\n",
    "highest_rating"
   ]
  },
  {
   "cell_type": "code",
   "execution_count": 179,
   "id": "adea9ede-ecad-4b86-97c9-89eeab12aed0",
   "metadata": {},
   "outputs": [
    {
     "name": "stdout",
     "output_type": "stream",
     "text": [
      "Highest rated category: Role Playing (3.37 rating)\n"
     ]
    }
   ],
   "source": [
    "print(f\"Highest rated category: {highest_rated_category} ({highest_rating:.2f} rating)\")"
   ]
  },
  {
   "cell_type": "code",
   "execution_count": 231,
   "id": "5361de1c-8b6b-4f38-83c2-70f6c354bffa",
   "metadata": {},
   "outputs": [
    {
     "data": {
      "image/png": "[encoded data removed]",
      "text/plain": [
       "<Figure size 640x480 with 1 Axes>"
      ]
     },
     "metadata": {},
     "output_type": "display_data"
    }
   ],
   "source": [
    "# 11 How does the size of the Application impacts the Installation ?\n",
    "\n",
    "plt.scatter(df['size_in_KB'], df['installs'], alpha=0.5, color='green')\n",
    "plt.title('Relationship Between App Size and Number of Installs')\n",
    "plt.xlabel('App Size (MB)')\n",
    "plt.ylabel('Number of Installs')\n",
    "plt.xscale('log')  # Log scale for size and installs to better visualize the range\n",
    "plt.yscale('log')\n",
    "plt.show()"
   ]
  },
  {
   "cell_type": "code",
   "execution_count": 235,
   "id": "edada0be-4577-4793-bfdf-e3b90079294d",
   "metadata": {},
   "outputs": [
    {
     "data": {
      "text/html": [
       "<div>\n",
       "<style scoped>\n",
       "    .dataframe tbody tr th:only-of-type {\n",
       "        vertical-align: middle;\n",
       "    }\n",
       "\n",
       "    .dataframe tbody tr th {\n",
       "        vertical-align: top;\n",
       "    }\n",
       "\n",
       "    .dataframe thead th {\n",
       "        text-align: right;\n",
       "    }\n",
       "</style>\n",
       "<table border=\"1\" class=\"dataframe\">\n",
       "  <thead>\n",
       "    <tr style=\"text-align: right;\">\n",
       "      <th></th>\n",
       "      <th>size_in_KB</th>\n",
       "      <th>installs</th>\n",
       "    </tr>\n",
       "  </thead>\n",
       "  <tbody>\n",
       "    <tr>\n",
       "      <th>size_in_KB</th>\n",
       "      <td>1.000000</td>\n",
       "      <td>0.033908</td>\n",
       "    </tr>\n",
       "    <tr>\n",
       "      <th>installs</th>\n",
       "      <td>0.033908</td>\n",
       "      <td>1.000000</td>\n",
       "    </tr>\n",
       "  </tbody>\n",
       "</table>\n",
       "</div>"
      ],
      "text/plain": [
       "            size_in_KB  installs\n",
       "size_in_KB    1.000000  0.033908\n",
       "installs      0.033908  1.000000"
      ]
     },
     "execution_count": 235,
     "metadata": {},
     "output_type": "execute_result"
    }
   ],
   "source": [
    "correlation = df[['size_in_KB', 'installs']].corr()\n",
    "correlation"
   ]
  },
  {
   "cell_type": "code",
   "execution_count": null,
   "id": "c4a832cf-d5e9-4226-b78a-209ccb3e0d51",
   "metadata": {},
   "outputs": [],
   "source": []
  },
  {
   "cell_type": "code",
   "execution_count": 214,
   "id": "e0788cc7-e8c5-4e6d-8b14-5778a33579f2",
   "metadata": {},
   "outputs": [
    {
     "name": "stdout",
     "output_type": "stream",
     "text": [
      "                             app_name  rating  installs\n",
      "771566                Calculator Plus     5.0    100000\n",
      "507659  Delux Black - Round Icon Pack     5.0     10000\n",
      "572639      FORMA RÉTRO - WIDGET KWGT     5.0     10000\n",
      "673607                         친일인명사전     5.0     10000\n",
      "933192  Himnario IDMJI Coros e Himnos     5.0     10000\n"
     ]
    }
   ],
   "source": [
    "# 12 What are the Top 5 Paid Apps based With highest ratings and installs ?\n",
    "\n",
    "paid_apps = df[df['type'] == 'Paid']\n",
    "top_5_paid_apps = paid_apps.sort_values(by=['rating', 'installs'], ascending=[False, False]).head(5)\n",
    "top_5_paid_apps\n",
    "print(top_5_paid_apps[['app_name', 'rating', 'installs']])\n"
   ]
  },
  {
   "cell_type": "code",
   "execution_count": null,
   "id": "f817d6d2-01a3-479a-af28-232d97f5290a",
   "metadata": {},
   "outputs": [],
   "source": [
    "\n"
   ]
  },
  {
   "cell_type": "code",
   "execution_count": 217,
   "id": "d0a62e2d-0cbb-4774-afce-aee28787b2d6",
   "metadata": {},
   "outputs": [
    {
     "name": "stdout",
     "output_type": "stream",
     "text": [
      "                                               app_name  rating  installs\n",
      "2035900                                     Photo Frame     5.0  10000000\n",
      "2288188                  Video maker with photo & music     5.0  10000000\n",
      "447796   Kuku FM - Love Stories, Audio Books & Podcasts     5.0   5000000\n",
      "1500940                       Maps Master for Minecraft     5.0   5000000\n",
      "42796       Angry Crocodile Simulator: Crocodile Attack     5.0   1000000\n"
     ]
    }
   ],
   "source": [
    "# 13 What are the Top 5 Free Apps based With highest ratings and installs ?\n",
    "\n",
    "paid_apps = df[df['type'] == 'Free']\n",
    "top_5_paid_apps = paid_apps.sort_values(by=['rating', 'installs'], ascending=[False, False]).head(5)\n",
    "top_5_paid_apps\n",
    "print(top_5_paid_apps[['app_name', 'rating', 'installs']])\n"
   ]
  },
  {
   "cell_type": "code",
   "execution_count": null,
   "id": "1ec98afe-2a24-454a-8774-d7c9a9fd83bc",
   "metadata": {},
   "outputs": [],
   "source": []
  }
 ],
 "metadata": {
  "kernelspec": {
   "display_name": "Python 3 (ipykernel)",
   "language": "python",
   "name": "python3"
  },
  "language_info": {
   "codemirror_mode": {
    "name": "ipython",
    "version": 3
   },
   "file_extension": ".py",
   "mimetype": "text/x-python",
   "name": "python",
   "nbconvert_exporter": "python",
   "pygments_lexer": "ipython3",
   "version": "3.12.7"
  }
 },
 "nbformat": 4,
 "nbformat_minor": 5
}
